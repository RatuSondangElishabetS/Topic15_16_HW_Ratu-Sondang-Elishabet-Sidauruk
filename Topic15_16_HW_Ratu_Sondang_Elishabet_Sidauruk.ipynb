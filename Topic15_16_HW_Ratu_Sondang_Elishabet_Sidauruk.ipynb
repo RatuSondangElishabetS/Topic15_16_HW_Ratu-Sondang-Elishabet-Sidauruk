{
  "cells": [
    {
      "cell_type": "markdown",
      "metadata": {
        "id": "1854e224"
      },
      "source": [
        "## Unsupervised ML Python Homework"
      ],
      "id": "1854e224"
    },
    {
      "cell_type": "code",
      "execution_count": 156,
      "metadata": {
        "id": "19e2e47b"
      },
      "outputs": [],
      "source": [
        "import numpy as np\n",
        "import pandas as pd\n",
        "import sklearn\n",
        "import sys\n",
        "import warnings\n",
        "import os\n",
        "if not sys.warnoptions:\n",
        "    warnings.simplefilter(\"ignore\")\n",
        "    os.environ[\"PYTHONWARNINGS\"] = \"ignore\" \n",
        "\n",
        "import matplotlib.pyplot as plt\n",
        "import seaborn as sns\n",
        "import time\n",
        "\n",
        "\n",
        "from sklearn.decomposition import PCA\n",
        "\n",
        "import numpy as np\n",
        "import pandas as pd\n",
        "\n",
        "from sklearn.cluster import KMeans\n",
        "from sklearn.metrics import silhouette_samples, silhouette_score\n",
        "from sklearn.preprocessing import StandardScaler\n",
        "\n",
        "import matplotlib.pyplot as plt\n",
        "import matplotlib.cm as cm\n",
        "import seaborn as sns"
      ],
      "id": "19e2e47b"
    },
    {
      "cell_type": "code",
      "execution_count": 157,
      "metadata": {
        "id": "4ee45efc"
      },
      "outputs": [],
      "source": [
        "data = pd.read_csv('unsupervised_ml_homework_data.csv')"
      ],
      "id": "4ee45efc"
    },
    {
      "cell_type": "markdown",
      "metadata": {
        "id": "5d57c5f6"
      },
      "source": [
        "### Soal 1: PCA"
      ],
      "id": "5d57c5f6"
    },
    {
      "cell_type": "markdown",
      "metadata": {
        "id": "814b4ae8"
      },
      "source": [
        "Instruksi:\n",
        "1. Lakukan PCA pada data yang telah di-import di cell atas.\n",
        "2. Ketentuan PCA: Ambil sampai threshold explained variancenya 0.8 (80%)\n",
        "3. Berapa Principal Components yang diambil?\n",
        "4. Simpan data hasil PCA karena data hasil PCA ini akan digunakan di Soal 2: K-Means"
      ],
      "id": "814b4ae8"
    },
    {
      "cell_type": "code",
      "execution_count": 158,
      "metadata": {
        "colab": {
          "base_uri": "https://localhost:8080/"
        },
        "id": "SwIJjorCtttG",
        "outputId": "0794035b-8e67-47df-db44-49528fe2c732"
      },
      "outputs": [
        {
          "output_type": "execute_result",
          "data": {
            "text/plain": [
              "PCA(n_components=             0          1          2          3          4          5  \\\n",
              "0     3.737848  -1.646325  -7.810163  11.995504  -2.807248  -0.085124   \n",
              "1    -6.024396  -0.488319   4.315504   0.650888 -14.594512  -2.801084   \n",
              "2     0.490949 -10.487436  -9.045535   0.129481   3.977727  -7.615191   \n",
              "3   -13.087377   7.845202  21.154323   7.971816 -13.379182   1.204298   \n",
              "4    -7.171991  13.705993  11.057470  14.073451  -7.947617  -4.637308   \n",
              "..         ...        ...        ...        ...        ...        ...   \n",
              "995  -3.471686  12.940466   8.508031  19.4791...\n",
              "997  18.516239   3.508759  -3.534441   8.934743 -15.085670  5.897779   \n",
              "998  11.791521   5.684052 -12.296774 -10.716805  -4.355119 -9.737902   \n",
              "999  -0.450576  -5.445609  -3.165241  -4.608183   5.482402 -8.084182   \n",
              "\n",
              "            18         19  \n",
              "0    -3.268958   2.623776  \n",
              "1     0.376761  -3.531153  \n",
              "2     3.365510  23.723555  \n",
              "3     3.878080  12.262810  \n",
              "4     5.047994   4.019611  \n",
              "..         ...        ...  \n",
              "995   3.439185  -0.963639  \n",
              "996   3.381137   0.173625  \n",
              "997  -3.473376   8.841673  \n",
              "998  12.584078  14.301682  \n",
              "999   9.353145  -1.872055  \n",
              "\n",
              "[1000 rows x 20 columns])"
            ]
          },
          "metadata": {},
          "execution_count": 158
        }
      ],
      "source": [
        "#Mengetahui banyaknya components\n",
        "sklearn.decomposition.PCA(data)"
      ],
      "id": "SwIJjorCtttG"
    },
    {
      "cell_type": "code",
      "execution_count": 159,
      "metadata": {
        "id": "mqbVwOqyatVE"
      },
      "outputs": [],
      "source": [
        "# Melakukan PCA pada data yang telah di-import \n",
        "pca_80 = PCA(0.8)"
      ],
      "id": "mqbVwOqyatVE"
    },
    {
      "cell_type": "code",
      "execution_count": 160,
      "metadata": {
        "id": "sgv9p_Rfa8GF"
      },
      "outputs": [],
      "source": [
        "pca_80.fit(data)\n",
        "pca_80_trans = pca_80.transform(data)\n",
        "data_pca_80 = pd.DataFrame(pca_80_trans)"
      ],
      "id": "sgv9p_Rfa8GF"
    },
    {
      "cell_type": "code",
      "execution_count": 161,
      "metadata": {
        "colab": {
          "base_uri": "https://localhost:8080/"
        },
        "id": "wbFreOjHbH6n",
        "outputId": "a78fd828-7ce9-40ee-8ef1-7f89850bfb42"
      },
      "outputs": [
        {
          "output_type": "stream",
          "name": "stdout",
          "text": [
            "Tersisa: 12 feature columns setelah melakukan PCA.\n",
            "PCA kali ini berhasil mereduksi dataset sebanyak 40.0 persen\n"
          ]
        }
      ],
      "source": [
        "# Menampilkan data yang telah dilakukan PCA\n",
        "print('Tersisa:', pca_80.n_components_, 'feature columns setelah melakukan PCA.')\n",
        "print('PCA kali ini berhasil mereduksi dataset sebanyak', (1-(pca_80.n_components_/20))*100, 'persen')"
      ],
      "id": "wbFreOjHbH6n"
    },
    {
      "cell_type": "code",
      "execution_count": 162,
      "metadata": {
        "colab": {
          "base_uri": "https://localhost:8080/",
          "height": 424
        },
        "id": "kBrK66I_cEBd",
        "outputId": "829ba979-dad1-4e78-8795-2af229308786"
      },
      "outputs": [
        {
          "output_type": "execute_result",
          "data": {
            "text/plain": [
              "            0          1          2         3          4          5   \\\n",
              "0     4.489239  23.388822  -1.245327 -0.604663   7.168715  12.140433   \n",
              "1   -16.927579 -21.720006   0.453236 -2.092276  -1.854185   8.105598   \n",
              "2    29.585439  -0.367065   8.009331  3.564103   3.851260   1.446380   \n",
              "3   -18.107060  -8.676266  -0.009083  9.928400   2.647460  -2.341457   \n",
              "4   -19.133698 -13.345589  -5.568956 -6.848398  -5.305273 -10.130572   \n",
              "..         ...        ...        ...       ...        ...        ...   \n",
              "995 -27.596745  -5.675153   1.037456  2.060439  12.357932  -1.168417   \n",
              "996 -25.101230 -16.880265  -2.327276  0.339001  -0.856307   7.415144   \n",
              "997  23.515248   2.271175   5.068040  1.014359  12.138911   0.638384   \n",
              "998  32.730315  -4.069322  10.025550  0.286854 -16.406983  -5.374449   \n",
              "999 -16.006922  16.370074  -6.467812  5.820928   1.882635   7.485633   \n",
              "\n",
              "           6         7         8         9         10         11  \n",
              "0   -2.606712 -2.982270 -1.240097  0.661235  3.653253   1.176113  \n",
              "1    0.857659  2.890713  0.310611 -0.045326 -4.492495   4.243733  \n",
              "2    8.451138 -9.789632 -3.855225 -1.684923 -3.405300  -8.356691  \n",
              "3    4.218565  1.104390 -2.239445 -1.504301  3.573772 -18.724099  \n",
              "4   -9.445192  0.368672 -7.123532 -2.462980  2.651811  -6.460466  \n",
              "..        ...       ...       ...       ...       ...        ...  \n",
              "995 -5.429511 -7.116851  2.629224 -3.142956  2.621997  -0.400097  \n",
              "996  3.238225  4.557121 -0.463356 -7.809110  3.039680   6.374570  \n",
              "997 -5.087893 -0.279657  1.870682  1.883865 -1.320213  -5.322234  \n",
              "998  9.337272  5.613491 -0.188005 -8.060883  3.080424   2.834658  \n",
              "999  2.270965  0.355526 -8.975090 -6.109662  6.446929   0.741801  \n",
              "\n",
              "[1000 rows x 12 columns]"
            ],
            "text/html": [
              "\n",
              "  <div id=\"df-0933c3eb-b86c-4586-bd39-e6eabb43b23b\">\n",
              "    <div class=\"colab-df-container\">\n",
              "      <div>\n",
              "<style scoped>\n",
              "    .dataframe tbody tr th:only-of-type {\n",
              "        vertical-align: middle;\n",
              "    }\n",
              "\n",
              "    .dataframe tbody tr th {\n",
              "        vertical-align: top;\n",
              "    }\n",
              "\n",
              "    .dataframe thead th {\n",
              "        text-align: right;\n",
              "    }\n",
              "</style>\n",
              "<table border=\"1\" class=\"dataframe\">\n",
              "  <thead>\n",
              "    <tr style=\"text-align: right;\">\n",
              "      <th></th>\n",
              "      <th>0</th>\n",
              "      <th>1</th>\n",
              "      <th>2</th>\n",
              "      <th>3</th>\n",
              "      <th>4</th>\n",
              "      <th>5</th>\n",
              "      <th>6</th>\n",
              "      <th>7</th>\n",
              "      <th>8</th>\n",
              "      <th>9</th>\n",
              "      <th>10</th>\n",
              "      <th>11</th>\n",
              "    </tr>\n",
              "  </thead>\n",
              "  <tbody>\n",
              "    <tr>\n",
              "      <th>0</th>\n",
              "      <td>4.489239</td>\n",
              "      <td>23.388822</td>\n",
              "      <td>-1.245327</td>\n",
              "      <td>-0.604663</td>\n",
              "      <td>7.168715</td>\n",
              "      <td>12.140433</td>\n",
              "      <td>-2.606712</td>\n",
              "      <td>-2.982270</td>\n",
              "      <td>-1.240097</td>\n",
              "      <td>0.661235</td>\n",
              "      <td>3.653253</td>\n",
              "      <td>1.176113</td>\n",
              "    </tr>\n",
              "    <tr>\n",
              "      <th>1</th>\n",
              "      <td>-16.927579</td>\n",
              "      <td>-21.720006</td>\n",
              "      <td>0.453236</td>\n",
              "      <td>-2.092276</td>\n",
              "      <td>-1.854185</td>\n",
              "      <td>8.105598</td>\n",
              "      <td>0.857659</td>\n",
              "      <td>2.890713</td>\n",
              "      <td>0.310611</td>\n",
              "      <td>-0.045326</td>\n",
              "      <td>-4.492495</td>\n",
              "      <td>4.243733</td>\n",
              "    </tr>\n",
              "    <tr>\n",
              "      <th>2</th>\n",
              "      <td>29.585439</td>\n",
              "      <td>-0.367065</td>\n",
              "      <td>8.009331</td>\n",
              "      <td>3.564103</td>\n",
              "      <td>3.851260</td>\n",
              "      <td>1.446380</td>\n",
              "      <td>8.451138</td>\n",
              "      <td>-9.789632</td>\n",
              "      <td>-3.855225</td>\n",
              "      <td>-1.684923</td>\n",
              "      <td>-3.405300</td>\n",
              "      <td>-8.356691</td>\n",
              "    </tr>\n",
              "    <tr>\n",
              "      <th>3</th>\n",
              "      <td>-18.107060</td>\n",
              "      <td>-8.676266</td>\n",
              "      <td>-0.009083</td>\n",
              "      <td>9.928400</td>\n",
              "      <td>2.647460</td>\n",
              "      <td>-2.341457</td>\n",
              "      <td>4.218565</td>\n",
              "      <td>1.104390</td>\n",
              "      <td>-2.239445</td>\n",
              "      <td>-1.504301</td>\n",
              "      <td>3.573772</td>\n",
              "      <td>-18.724099</td>\n",
              "    </tr>\n",
              "    <tr>\n",
              "      <th>4</th>\n",
              "      <td>-19.133698</td>\n",
              "      <td>-13.345589</td>\n",
              "      <td>-5.568956</td>\n",
              "      <td>-6.848398</td>\n",
              "      <td>-5.305273</td>\n",
              "      <td>-10.130572</td>\n",
              "      <td>-9.445192</td>\n",
              "      <td>0.368672</td>\n",
              "      <td>-7.123532</td>\n",
              "      <td>-2.462980</td>\n",
              "      <td>2.651811</td>\n",
              "      <td>-6.460466</td>\n",
              "    </tr>\n",
              "    <tr>\n",
              "      <th>...</th>\n",
              "      <td>...</td>\n",
              "      <td>...</td>\n",
              "      <td>...</td>\n",
              "      <td>...</td>\n",
              "      <td>...</td>\n",
              "      <td>...</td>\n",
              "      <td>...</td>\n",
              "      <td>...</td>\n",
              "      <td>...</td>\n",
              "      <td>...</td>\n",
              "      <td>...</td>\n",
              "      <td>...</td>\n",
              "    </tr>\n",
              "    <tr>\n",
              "      <th>995</th>\n",
              "      <td>-27.596745</td>\n",
              "      <td>-5.675153</td>\n",
              "      <td>1.037456</td>\n",
              "      <td>2.060439</td>\n",
              "      <td>12.357932</td>\n",
              "      <td>-1.168417</td>\n",
              "      <td>-5.429511</td>\n",
              "      <td>-7.116851</td>\n",
              "      <td>2.629224</td>\n",
              "      <td>-3.142956</td>\n",
              "      <td>2.621997</td>\n",
              "      <td>-0.400097</td>\n",
              "    </tr>\n",
              "    <tr>\n",
              "      <th>996</th>\n",
              "      <td>-25.101230</td>\n",
              "      <td>-16.880265</td>\n",
              "      <td>-2.327276</td>\n",
              "      <td>0.339001</td>\n",
              "      <td>-0.856307</td>\n",
              "      <td>7.415144</td>\n",
              "      <td>3.238225</td>\n",
              "      <td>4.557121</td>\n",
              "      <td>-0.463356</td>\n",
              "      <td>-7.809110</td>\n",
              "      <td>3.039680</td>\n",
              "      <td>6.374570</td>\n",
              "    </tr>\n",
              "    <tr>\n",
              "      <th>997</th>\n",
              "      <td>23.515248</td>\n",
              "      <td>2.271175</td>\n",
              "      <td>5.068040</td>\n",
              "      <td>1.014359</td>\n",
              "      <td>12.138911</td>\n",
              "      <td>0.638384</td>\n",
              "      <td>-5.087893</td>\n",
              "      <td>-0.279657</td>\n",
              "      <td>1.870682</td>\n",
              "      <td>1.883865</td>\n",
              "      <td>-1.320213</td>\n",
              "      <td>-5.322234</td>\n",
              "    </tr>\n",
              "    <tr>\n",
              "      <th>998</th>\n",
              "      <td>32.730315</td>\n",
              "      <td>-4.069322</td>\n",
              "      <td>10.025550</td>\n",
              "      <td>0.286854</td>\n",
              "      <td>-16.406983</td>\n",
              "      <td>-5.374449</td>\n",
              "      <td>9.337272</td>\n",
              "      <td>5.613491</td>\n",
              "      <td>-0.188005</td>\n",
              "      <td>-8.060883</td>\n",
              "      <td>3.080424</td>\n",
              "      <td>2.834658</td>\n",
              "    </tr>\n",
              "    <tr>\n",
              "      <th>999</th>\n",
              "      <td>-16.006922</td>\n",
              "      <td>16.370074</td>\n",
              "      <td>-6.467812</td>\n",
              "      <td>5.820928</td>\n",
              "      <td>1.882635</td>\n",
              "      <td>7.485633</td>\n",
              "      <td>2.270965</td>\n",
              "      <td>0.355526</td>\n",
              "      <td>-8.975090</td>\n",
              "      <td>-6.109662</td>\n",
              "      <td>6.446929</td>\n",
              "      <td>0.741801</td>\n",
              "    </tr>\n",
              "  </tbody>\n",
              "</table>\n",
              "<p>1000 rows × 12 columns</p>\n",
              "</div>\n",
              "      <button class=\"colab-df-convert\" onclick=\"convertToInteractive('df-0933c3eb-b86c-4586-bd39-e6eabb43b23b')\"\n",
              "              title=\"Convert this dataframe to an interactive table.\"\n",
              "              style=\"display:none;\">\n",
              "        \n",
              "  <svg xmlns=\"http://www.w3.org/2000/svg\" height=\"24px\"viewBox=\"0 0 24 24\"\n",
              "       width=\"24px\">\n",
              "    <path d=\"M0 0h24v24H0V0z\" fill=\"none\"/>\n",
              "    <path d=\"M18.56 5.44l.94 2.06.94-2.06 2.06-.94-2.06-.94-.94-2.06-.94 2.06-2.06.94zm-11 1L8.5 8.5l.94-2.06 2.06-.94-2.06-.94L8.5 2.5l-.94 2.06-2.06.94zm10 10l.94 2.06.94-2.06 2.06-.94-2.06-.94-.94-2.06-.94 2.06-2.06.94z\"/><path d=\"M17.41 7.96l-1.37-1.37c-.4-.4-.92-.59-1.43-.59-.52 0-1.04.2-1.43.59L10.3 9.45l-7.72 7.72c-.78.78-.78 2.05 0 2.83L4 21.41c.39.39.9.59 1.41.59.51 0 1.02-.2 1.41-.59l7.78-7.78 2.81-2.81c.8-.78.8-2.07 0-2.86zM5.41 20L4 18.59l7.72-7.72 1.47 1.35L5.41 20z\"/>\n",
              "  </svg>\n",
              "      </button>\n",
              "      \n",
              "  <style>\n",
              "    .colab-df-container {\n",
              "      display:flex;\n",
              "      flex-wrap:wrap;\n",
              "      gap: 12px;\n",
              "    }\n",
              "\n",
              "    .colab-df-convert {\n",
              "      background-color: #E8F0FE;\n",
              "      border: none;\n",
              "      border-radius: 50%;\n",
              "      cursor: pointer;\n",
              "      display: none;\n",
              "      fill: #1967D2;\n",
              "      height: 32px;\n",
              "      padding: 0 0 0 0;\n",
              "      width: 32px;\n",
              "    }\n",
              "\n",
              "    .colab-df-convert:hover {\n",
              "      background-color: #E2EBFA;\n",
              "      box-shadow: 0px 1px 2px rgba(60, 64, 67, 0.3), 0px 1px 3px 1px rgba(60, 64, 67, 0.15);\n",
              "      fill: #174EA6;\n",
              "    }\n",
              "\n",
              "    [theme=dark] .colab-df-convert {\n",
              "      background-color: #3B4455;\n",
              "      fill: #D2E3FC;\n",
              "    }\n",
              "\n",
              "    [theme=dark] .colab-df-convert:hover {\n",
              "      background-color: #434B5C;\n",
              "      box-shadow: 0px 1px 3px 1px rgba(0, 0, 0, 0.15);\n",
              "      filter: drop-shadow(0px 1px 2px rgba(0, 0, 0, 0.3));\n",
              "      fill: #FFFFFF;\n",
              "    }\n",
              "  </style>\n",
              "\n",
              "      <script>\n",
              "        const buttonEl =\n",
              "          document.querySelector('#df-0933c3eb-b86c-4586-bd39-e6eabb43b23b button.colab-df-convert');\n",
              "        buttonEl.style.display =\n",
              "          google.colab.kernel.accessAllowed ? 'block' : 'none';\n",
              "\n",
              "        async function convertToInteractive(key) {\n",
              "          const element = document.querySelector('#df-0933c3eb-b86c-4586-bd39-e6eabb43b23b');\n",
              "          const dataTable =\n",
              "            await google.colab.kernel.invokeFunction('convertToInteractive',\n",
              "                                                     [key], {});\n",
              "          if (!dataTable) return;\n",
              "\n",
              "          const docLinkHtml = 'Like what you see? Visit the ' +\n",
              "            '<a target=\"_blank\" href=https://colab.research.google.com/notebooks/data_table.ipynb>data table notebook</a>'\n",
              "            + ' to learn more about interactive tables.';\n",
              "          element.innerHTML = '';\n",
              "          dataTable['output_type'] = 'display_data';\n",
              "          await google.colab.output.renderOutput(dataTable, element);\n",
              "          const docLink = document.createElement('div');\n",
              "          docLink.innerHTML = docLinkHtml;\n",
              "          element.appendChild(docLink);\n",
              "        }\n",
              "      </script>\n",
              "    </div>\n",
              "  </div>\n",
              "  "
            ]
          },
          "metadata": {},
          "execution_count": 162
        }
      ],
      "source": [
        "data_pca_80"
      ],
      "id": "kBrK66I_cEBd"
    },
    {
      "cell_type": "markdown",
      "metadata": {
        "id": "Oa2ptr-0dwqA"
      },
      "source": [
        "\n",
        "Data yang dimiliki adalah 20 kolom dan untuk mencapai 80% explained variance dibutuhkan 12 kolom."
      ],
      "id": "Oa2ptr-0dwqA"
    },
    {
      "cell_type": "code",
      "execution_count": 163,
      "metadata": {
        "id": "L3K-9s8HdOzF"
      },
      "outputs": [],
      "source": [
        "# Menyimpan data\n",
        "data_pca_80.to_csv('data_unsupervised_PCA_80.csv.gz', index = False)"
      ],
      "id": "L3K-9s8HdOzF"
    },
    {
      "cell_type": "markdown",
      "metadata": {
        "id": "9d628c85"
      },
      "source": [
        "### Soal 2: K Means"
      ],
      "id": "9d628c85"
    },
    {
      "cell_type": "markdown",
      "metadata": {
        "id": "9e172fc0"
      },
      "source": [
        "Instruksi:\n",
        "1. Dari data yang sudah di-PCA-kan (jadi datanya sudah baru ya, bukan data original lagi, ingat, data yang sudah di-PCA-kan), kita akan menentukan k = ?? yang paling ideal untuk clustering.\n",
        "2. Lakukan Elbow dan Silhouette method\n",
        "3. Visualisasikan hasil Elbow dan Silhouette method\n",
        "4. Berapa nilai k yang terbaik? "
      ],
      "id": "9e172fc0"
    },
    {
      "cell_type": "code",
      "execution_count": 164,
      "metadata": {
        "id": "6ef458a5"
      },
      "outputs": [],
      "source": [
        "data = pd.read_csv('data_unsupervised_PCA_80.csv.gz')"
      ],
      "id": "6ef458a5"
    },
    {
      "cell_type": "code",
      "execution_count": 165,
      "metadata": {
        "colab": {
          "base_uri": "https://localhost:8080/",
          "height": 206
        },
        "id": "w-vbFaSIgFGj",
        "outputId": "9670b150-7703-4d85-dc9f-d012ab660aeb"
      },
      "outputs": [
        {
          "output_type": "execute_result",
          "data": {
            "text/plain": [
              "           0          1         2         3         4          5         6  \\\n",
              "0   4.489239  23.388822 -1.245327 -0.604663  7.168715  12.140433 -2.606712   \n",
              "1 -16.927579 -21.720006  0.453236 -2.092276 -1.854185   8.105598  0.857659   \n",
              "2  29.585439  -0.367065  8.009331  3.564103  3.851260   1.446380  8.451138   \n",
              "3 -18.107060  -8.676266 -0.009083  9.928400  2.647460  -2.341457  4.218565   \n",
              "4 -19.133698 -13.345589 -5.568956 -6.848398 -5.305273 -10.130572 -9.445192   \n",
              "\n",
              "          7         8         9        10         11  \n",
              "0 -2.982270 -1.240097  0.661235  3.653253   1.176113  \n",
              "1  2.890713  0.310611 -0.045326 -4.492495   4.243733  \n",
              "2 -9.789632 -3.855225 -1.684923 -3.405300  -8.356691  \n",
              "3  1.104390 -2.239445 -1.504301  3.573772 -18.724099  \n",
              "4  0.368672 -7.123532 -2.462980  2.651811  -6.460466  "
            ],
            "text/html": [
              "\n",
              "  <div id=\"df-f6b0f7f7-aba3-48c8-bc83-4bc5a31f6a20\">\n",
              "    <div class=\"colab-df-container\">\n",
              "      <div>\n",
              "<style scoped>\n",
              "    .dataframe tbody tr th:only-of-type {\n",
              "        vertical-align: middle;\n",
              "    }\n",
              "\n",
              "    .dataframe tbody tr th {\n",
              "        vertical-align: top;\n",
              "    }\n",
              "\n",
              "    .dataframe thead th {\n",
              "        text-align: right;\n",
              "    }\n",
              "</style>\n",
              "<table border=\"1\" class=\"dataframe\">\n",
              "  <thead>\n",
              "    <tr style=\"text-align: right;\">\n",
              "      <th></th>\n",
              "      <th>0</th>\n",
              "      <th>1</th>\n",
              "      <th>2</th>\n",
              "      <th>3</th>\n",
              "      <th>4</th>\n",
              "      <th>5</th>\n",
              "      <th>6</th>\n",
              "      <th>7</th>\n",
              "      <th>8</th>\n",
              "      <th>9</th>\n",
              "      <th>10</th>\n",
              "      <th>11</th>\n",
              "    </tr>\n",
              "  </thead>\n",
              "  <tbody>\n",
              "    <tr>\n",
              "      <th>0</th>\n",
              "      <td>4.489239</td>\n",
              "      <td>23.388822</td>\n",
              "      <td>-1.245327</td>\n",
              "      <td>-0.604663</td>\n",
              "      <td>7.168715</td>\n",
              "      <td>12.140433</td>\n",
              "      <td>-2.606712</td>\n",
              "      <td>-2.982270</td>\n",
              "      <td>-1.240097</td>\n",
              "      <td>0.661235</td>\n",
              "      <td>3.653253</td>\n",
              "      <td>1.176113</td>\n",
              "    </tr>\n",
              "    <tr>\n",
              "      <th>1</th>\n",
              "      <td>-16.927579</td>\n",
              "      <td>-21.720006</td>\n",
              "      <td>0.453236</td>\n",
              "      <td>-2.092276</td>\n",
              "      <td>-1.854185</td>\n",
              "      <td>8.105598</td>\n",
              "      <td>0.857659</td>\n",
              "      <td>2.890713</td>\n",
              "      <td>0.310611</td>\n",
              "      <td>-0.045326</td>\n",
              "      <td>-4.492495</td>\n",
              "      <td>4.243733</td>\n",
              "    </tr>\n",
              "    <tr>\n",
              "      <th>2</th>\n",
              "      <td>29.585439</td>\n",
              "      <td>-0.367065</td>\n",
              "      <td>8.009331</td>\n",
              "      <td>3.564103</td>\n",
              "      <td>3.851260</td>\n",
              "      <td>1.446380</td>\n",
              "      <td>8.451138</td>\n",
              "      <td>-9.789632</td>\n",
              "      <td>-3.855225</td>\n",
              "      <td>-1.684923</td>\n",
              "      <td>-3.405300</td>\n",
              "      <td>-8.356691</td>\n",
              "    </tr>\n",
              "    <tr>\n",
              "      <th>3</th>\n",
              "      <td>-18.107060</td>\n",
              "      <td>-8.676266</td>\n",
              "      <td>-0.009083</td>\n",
              "      <td>9.928400</td>\n",
              "      <td>2.647460</td>\n",
              "      <td>-2.341457</td>\n",
              "      <td>4.218565</td>\n",
              "      <td>1.104390</td>\n",
              "      <td>-2.239445</td>\n",
              "      <td>-1.504301</td>\n",
              "      <td>3.573772</td>\n",
              "      <td>-18.724099</td>\n",
              "    </tr>\n",
              "    <tr>\n",
              "      <th>4</th>\n",
              "      <td>-19.133698</td>\n",
              "      <td>-13.345589</td>\n",
              "      <td>-5.568956</td>\n",
              "      <td>-6.848398</td>\n",
              "      <td>-5.305273</td>\n",
              "      <td>-10.130572</td>\n",
              "      <td>-9.445192</td>\n",
              "      <td>0.368672</td>\n",
              "      <td>-7.123532</td>\n",
              "      <td>-2.462980</td>\n",
              "      <td>2.651811</td>\n",
              "      <td>-6.460466</td>\n",
              "    </tr>\n",
              "  </tbody>\n",
              "</table>\n",
              "</div>\n",
              "      <button class=\"colab-df-convert\" onclick=\"convertToInteractive('df-f6b0f7f7-aba3-48c8-bc83-4bc5a31f6a20')\"\n",
              "              title=\"Convert this dataframe to an interactive table.\"\n",
              "              style=\"display:none;\">\n",
              "        \n",
              "  <svg xmlns=\"http://www.w3.org/2000/svg\" height=\"24px\"viewBox=\"0 0 24 24\"\n",
              "       width=\"24px\">\n",
              "    <path d=\"M0 0h24v24H0V0z\" fill=\"none\"/>\n",
              "    <path d=\"M18.56 5.44l.94 2.06.94-2.06 2.06-.94-2.06-.94-.94-2.06-.94 2.06-2.06.94zm-11 1L8.5 8.5l.94-2.06 2.06-.94-2.06-.94L8.5 2.5l-.94 2.06-2.06.94zm10 10l.94 2.06.94-2.06 2.06-.94-2.06-.94-.94-2.06-.94 2.06-2.06.94z\"/><path d=\"M17.41 7.96l-1.37-1.37c-.4-.4-.92-.59-1.43-.59-.52 0-1.04.2-1.43.59L10.3 9.45l-7.72 7.72c-.78.78-.78 2.05 0 2.83L4 21.41c.39.39.9.59 1.41.59.51 0 1.02-.2 1.41-.59l7.78-7.78 2.81-2.81c.8-.78.8-2.07 0-2.86zM5.41 20L4 18.59l7.72-7.72 1.47 1.35L5.41 20z\"/>\n",
              "  </svg>\n",
              "      </button>\n",
              "      \n",
              "  <style>\n",
              "    .colab-df-container {\n",
              "      display:flex;\n",
              "      flex-wrap:wrap;\n",
              "      gap: 12px;\n",
              "    }\n",
              "\n",
              "    .colab-df-convert {\n",
              "      background-color: #E8F0FE;\n",
              "      border: none;\n",
              "      border-radius: 50%;\n",
              "      cursor: pointer;\n",
              "      display: none;\n",
              "      fill: #1967D2;\n",
              "      height: 32px;\n",
              "      padding: 0 0 0 0;\n",
              "      width: 32px;\n",
              "    }\n",
              "\n",
              "    .colab-df-convert:hover {\n",
              "      background-color: #E2EBFA;\n",
              "      box-shadow: 0px 1px 2px rgba(60, 64, 67, 0.3), 0px 1px 3px 1px rgba(60, 64, 67, 0.15);\n",
              "      fill: #174EA6;\n",
              "    }\n",
              "\n",
              "    [theme=dark] .colab-df-convert {\n",
              "      background-color: #3B4455;\n",
              "      fill: #D2E3FC;\n",
              "    }\n",
              "\n",
              "    [theme=dark] .colab-df-convert:hover {\n",
              "      background-color: #434B5C;\n",
              "      box-shadow: 0px 1px 3px 1px rgba(0, 0, 0, 0.15);\n",
              "      filter: drop-shadow(0px 1px 2px rgba(0, 0, 0, 0.3));\n",
              "      fill: #FFFFFF;\n",
              "    }\n",
              "  </style>\n",
              "\n",
              "      <script>\n",
              "        const buttonEl =\n",
              "          document.querySelector('#df-f6b0f7f7-aba3-48c8-bc83-4bc5a31f6a20 button.colab-df-convert');\n",
              "        buttonEl.style.display =\n",
              "          google.colab.kernel.accessAllowed ? 'block' : 'none';\n",
              "\n",
              "        async function convertToInteractive(key) {\n",
              "          const element = document.querySelector('#df-f6b0f7f7-aba3-48c8-bc83-4bc5a31f6a20');\n",
              "          const dataTable =\n",
              "            await google.colab.kernel.invokeFunction('convertToInteractive',\n",
              "                                                     [key], {});\n",
              "          if (!dataTable) return;\n",
              "\n",
              "          const docLinkHtml = 'Like what you see? Visit the ' +\n",
              "            '<a target=\"_blank\" href=https://colab.research.google.com/notebooks/data_table.ipynb>data table notebook</a>'\n",
              "            + ' to learn more about interactive tables.';\n",
              "          element.innerHTML = '';\n",
              "          dataTable['output_type'] = 'display_data';\n",
              "          await google.colab.output.renderOutput(dataTable, element);\n",
              "          const docLink = document.createElement('div');\n",
              "          docLink.innerHTML = docLinkHtml;\n",
              "          element.appendChild(docLink);\n",
              "        }\n",
              "      </script>\n",
              "    </div>\n",
              "  </div>\n",
              "  "
            ]
          },
          "metadata": {},
          "execution_count": 165
        }
      ],
      "source": [
        "data.head()"
      ],
      "id": "w-vbFaSIgFGj"
    },
    {
      "cell_type": "code",
      "execution_count": 166,
      "metadata": {
        "colab": {
          "base_uri": "https://localhost:8080/",
          "height": 424
        },
        "id": "y3F1tRlkgKjT",
        "outputId": "eb435a50-d209-4837-fc34-a9e974d56e46"
      },
      "outputs": [
        {
          "output_type": "execute_result",
          "data": {
            "text/plain": [
              "             0          1\n",
              "0     4.489239  23.388822\n",
              "1   -16.927579 -21.720006\n",
              "2    29.585439  -0.367065\n",
              "3   -18.107060  -8.676266\n",
              "4   -19.133698 -13.345589\n",
              "..         ...        ...\n",
              "995 -27.596745  -5.675153\n",
              "996 -25.101230 -16.880265\n",
              "997  23.515248   2.271175\n",
              "998  32.730315  -4.069322\n",
              "999 -16.006922  16.370074\n",
              "\n",
              "[1000 rows x 2 columns]"
            ],
            "text/html": [
              "\n",
              "  <div id=\"df-1300ba4e-8a01-4213-a871-71dd1c2c4ae8\">\n",
              "    <div class=\"colab-df-container\">\n",
              "      <div>\n",
              "<style scoped>\n",
              "    .dataframe tbody tr th:only-of-type {\n",
              "        vertical-align: middle;\n",
              "    }\n",
              "\n",
              "    .dataframe tbody tr th {\n",
              "        vertical-align: top;\n",
              "    }\n",
              "\n",
              "    .dataframe thead th {\n",
              "        text-align: right;\n",
              "    }\n",
              "</style>\n",
              "<table border=\"1\" class=\"dataframe\">\n",
              "  <thead>\n",
              "    <tr style=\"text-align: right;\">\n",
              "      <th></th>\n",
              "      <th>0</th>\n",
              "      <th>1</th>\n",
              "    </tr>\n",
              "  </thead>\n",
              "  <tbody>\n",
              "    <tr>\n",
              "      <th>0</th>\n",
              "      <td>4.489239</td>\n",
              "      <td>23.388822</td>\n",
              "    </tr>\n",
              "    <tr>\n",
              "      <th>1</th>\n",
              "      <td>-16.927579</td>\n",
              "      <td>-21.720006</td>\n",
              "    </tr>\n",
              "    <tr>\n",
              "      <th>2</th>\n",
              "      <td>29.585439</td>\n",
              "      <td>-0.367065</td>\n",
              "    </tr>\n",
              "    <tr>\n",
              "      <th>3</th>\n",
              "      <td>-18.107060</td>\n",
              "      <td>-8.676266</td>\n",
              "    </tr>\n",
              "    <tr>\n",
              "      <th>4</th>\n",
              "      <td>-19.133698</td>\n",
              "      <td>-13.345589</td>\n",
              "    </tr>\n",
              "    <tr>\n",
              "      <th>...</th>\n",
              "      <td>...</td>\n",
              "      <td>...</td>\n",
              "    </tr>\n",
              "    <tr>\n",
              "      <th>995</th>\n",
              "      <td>-27.596745</td>\n",
              "      <td>-5.675153</td>\n",
              "    </tr>\n",
              "    <tr>\n",
              "      <th>996</th>\n",
              "      <td>-25.101230</td>\n",
              "      <td>-16.880265</td>\n",
              "    </tr>\n",
              "    <tr>\n",
              "      <th>997</th>\n",
              "      <td>23.515248</td>\n",
              "      <td>2.271175</td>\n",
              "    </tr>\n",
              "    <tr>\n",
              "      <th>998</th>\n",
              "      <td>32.730315</td>\n",
              "      <td>-4.069322</td>\n",
              "    </tr>\n",
              "    <tr>\n",
              "      <th>999</th>\n",
              "      <td>-16.006922</td>\n",
              "      <td>16.370074</td>\n",
              "    </tr>\n",
              "  </tbody>\n",
              "</table>\n",
              "<p>1000 rows × 2 columns</p>\n",
              "</div>\n",
              "      <button class=\"colab-df-convert\" onclick=\"convertToInteractive('df-1300ba4e-8a01-4213-a871-71dd1c2c4ae8')\"\n",
              "              title=\"Convert this dataframe to an interactive table.\"\n",
              "              style=\"display:none;\">\n",
              "        \n",
              "  <svg xmlns=\"http://www.w3.org/2000/svg\" height=\"24px\"viewBox=\"0 0 24 24\"\n",
              "       width=\"24px\">\n",
              "    <path d=\"M0 0h24v24H0V0z\" fill=\"none\"/>\n",
              "    <path d=\"M18.56 5.44l.94 2.06.94-2.06 2.06-.94-2.06-.94-.94-2.06-.94 2.06-2.06.94zm-11 1L8.5 8.5l.94-2.06 2.06-.94-2.06-.94L8.5 2.5l-.94 2.06-2.06.94zm10 10l.94 2.06.94-2.06 2.06-.94-2.06-.94-.94-2.06-.94 2.06-2.06.94z\"/><path d=\"M17.41 7.96l-1.37-1.37c-.4-.4-.92-.59-1.43-.59-.52 0-1.04.2-1.43.59L10.3 9.45l-7.72 7.72c-.78.78-.78 2.05 0 2.83L4 21.41c.39.39.9.59 1.41.59.51 0 1.02-.2 1.41-.59l7.78-7.78 2.81-2.81c.8-.78.8-2.07 0-2.86zM5.41 20L4 18.59l7.72-7.72 1.47 1.35L5.41 20z\"/>\n",
              "  </svg>\n",
              "      </button>\n",
              "      \n",
              "  <style>\n",
              "    .colab-df-container {\n",
              "      display:flex;\n",
              "      flex-wrap:wrap;\n",
              "      gap: 12px;\n",
              "    }\n",
              "\n",
              "    .colab-df-convert {\n",
              "      background-color: #E8F0FE;\n",
              "      border: none;\n",
              "      border-radius: 50%;\n",
              "      cursor: pointer;\n",
              "      display: none;\n",
              "      fill: #1967D2;\n",
              "      height: 32px;\n",
              "      padding: 0 0 0 0;\n",
              "      width: 32px;\n",
              "    }\n",
              "\n",
              "    .colab-df-convert:hover {\n",
              "      background-color: #E2EBFA;\n",
              "      box-shadow: 0px 1px 2px rgba(60, 64, 67, 0.3), 0px 1px 3px 1px rgba(60, 64, 67, 0.15);\n",
              "      fill: #174EA6;\n",
              "    }\n",
              "\n",
              "    [theme=dark] .colab-df-convert {\n",
              "      background-color: #3B4455;\n",
              "      fill: #D2E3FC;\n",
              "    }\n",
              "\n",
              "    [theme=dark] .colab-df-convert:hover {\n",
              "      background-color: #434B5C;\n",
              "      box-shadow: 0px 1px 3px 1px rgba(0, 0, 0, 0.15);\n",
              "      filter: drop-shadow(0px 1px 2px rgba(0, 0, 0, 0.3));\n",
              "      fill: #FFFFFF;\n",
              "    }\n",
              "  </style>\n",
              "\n",
              "      <script>\n",
              "        const buttonEl =\n",
              "          document.querySelector('#df-1300ba4e-8a01-4213-a871-71dd1c2c4ae8 button.colab-df-convert');\n",
              "        buttonEl.style.display =\n",
              "          google.colab.kernel.accessAllowed ? 'block' : 'none';\n",
              "\n",
              "        async function convertToInteractive(key) {\n",
              "          const element = document.querySelector('#df-1300ba4e-8a01-4213-a871-71dd1c2c4ae8');\n",
              "          const dataTable =\n",
              "            await google.colab.kernel.invokeFunction('convertToInteractive',\n",
              "                                                     [key], {});\n",
              "          if (!dataTable) return;\n",
              "\n",
              "          const docLinkHtml = 'Like what you see? Visit the ' +\n",
              "            '<a target=\"_blank\" href=https://colab.research.google.com/notebooks/data_table.ipynb>data table notebook</a>'\n",
              "            + ' to learn more about interactive tables.';\n",
              "          element.innerHTML = '';\n",
              "          dataTable['output_type'] = 'display_data';\n",
              "          await google.colab.output.renderOutput(dataTable, element);\n",
              "          const docLink = document.createElement('div');\n",
              "          docLink.innerHTML = docLinkHtml;\n",
              "          element.appendChild(docLink);\n",
              "        }\n",
              "      </script>\n",
              "    </div>\n",
              "  </div>\n",
              "  "
            ]
          },
          "metadata": {},
          "execution_count": 166
        }
      ],
      "source": [
        "#Pilih features\n",
        "x = data.iloc[:,[0,1]]\n",
        "x"
      ],
      "id": "y3F1tRlkgKjT"
    },
    {
      "cell_type": "code",
      "execution_count": 167,
      "metadata": {
        "id": "caZ6XeP5gTuj",
        "colab": {
          "base_uri": "https://localhost:8080/",
          "height": 295
        },
        "outputId": "6ca19ad4-1d18-4cdf-e5bb-43633835da89"
      },
      "outputs": [
        {
          "output_type": "display_data",
          "data": {
            "text/plain": [
              "<Figure size 432x288 with 1 Axes>"
            ],
            "image/png": "[encoded data removed]"
          },
          "metadata": {
            "needs_background": "light"
          }
        }
      ],
      "source": [
        "# Metode Elbow\n",
        "score = []\n",
        "\n",
        "for cluster in range(1,11):\n",
        "    kmeans = KMeans(n_clusters = cluster)\n",
        "    scaled_data = StandardScaler().fit_transform(x)\n",
        "    kmeans.fit(scaled_data)\n",
        "    score.append(kmeans.inertia_)\n",
        "\n",
        "plt.plot(range(1,11), score)\n",
        "plt.title('The Elbow Method')\n",
        "plt.xlabel('No of Clusters')\n",
        "plt.ylabel('WCSS')\n",
        "plt.show()"
      ],
      "id": "caZ6XeP5gTuj"
    },
    {
      "cell_type": "markdown",
      "metadata": {
        "id": "f8Z14uyhhaoJ"
      },
      "source": [
        "Dari grafik diatas dapat diketahui bahwa 'Elbow' terjadi di k = 3"
      ],
      "id": "f8Z14uyhhaoJ"
    },
    {
      "cell_type": "code",
      "execution_count": 168,
      "metadata": {
        "colab": {
          "base_uri": "https://localhost:8080/",
          "height": 279
        },
        "id": "bFT0dYlGgbrE",
        "outputId": "fc3bde00-18ec-483e-b1a1-7de02e4bcdb1"
      },
      "outputs": [
        {
          "output_type": "display_data",
          "data": {
            "text/plain": [
              "<Figure size 432x288 with 1 Axes>"
            ],
            "image/png": "[encoded data removed]"
          },
          "metadata": {
            "needs_background": "light"
          }
        }
      ],
      "source": [
        "#Silhouette score\n",
        "silhouette_coefficients = []\n",
        "from sklearn.metrics import silhouette_score\n",
        "\n",
        "for k in range(2, 11):\n",
        "    kmeans = KMeans(n_clusters=k)\n",
        "    scaled_data = StandardScaler().fit_transform(x)\n",
        "    kmeans.fit(scaled_data)\n",
        "    score = silhouette_score(scaled_data, kmeans.labels_)\n",
        "    silhouette_coefficients.append(score)\n",
        "    \n",
        "plt.plot(range(2, 11), silhouette_coefficients)\n",
        "plt.xticks(range(2, 11))\n",
        "plt.xlabel(\"Number of Clusters\")\n",
        "plt.ylabel(\"Silhouette Coefficient\")\n",
        "plt.show()"
      ],
      "id": "bFT0dYlGgbrE"
    },
    {
      "cell_type": "markdown",
      "metadata": {
        "id": "yU1HpHTAhgyj"
      },
      "source": [
        "Dari grafik diatas dapat diketahui bahwa nilai Silhouette terdapat di k = 3 dan 6. Dari sini dapat diambil kesimupulan 'Elbow' terjadi di k = 3. Sedangkan, nilai Silhouette terjadi di k = 3 dan k = 6. Maka kita asumsikan bahwa k = 3 untuk ideal dalam k-Means."
      ],
      "id": "yU1HpHTAhgyj"
    },
    {
      "cell_type": "code",
      "execution_count": 169,
      "metadata": {
        "id": "2C1QURwOghLq"
      },
      "outputs": [],
      "source": [
        "kmeans_final = KMeans(n_clusters = 3)\n",
        "data['cluster'] = kmeans_final.fit_predict(x)\n",
        "data['cluster'] = data['cluster'].astype('category')"
      ],
      "id": "2C1QURwOghLq"
    },
    {
      "cell_type": "code",
      "execution_count": 170,
      "metadata": {
        "colab": {
          "base_uri": "https://localhost:8080/",
          "height": 279
        },
        "id": "H2cH6fAtgiXW",
        "outputId": "46521ac8-2f32-4412-eca0-0cf242db6cac"
      },
      "outputs": [
        {
          "output_type": "display_data",
          "data": {
            "text/plain": [
              "<Figure size 432x288 with 1 Axes>"
            ],
            "image/png": "[encoded data removed]"
          },
          "metadata": {
            "needs_background": "light"
          }
        }
      ],
      "source": [
        "sns.scatterplot(data = data, x = '0', y = '1', hue = 'cluster')\n",
        "plt.show()"
      ],
      "id": "H2cH6fAtgiXW"
    },
    {
      "cell_type": "markdown",
      "metadata": {
        "id": "r29Sx6u3hlaL"
      },
      "source": [
        "Dapat dilihat bahwa dari data tersebut terbagi menjadi 3 cluster.\n",
        "Dan berdasarkan Elbow dan Silhouette method nilai k yang terbaik adalah 3."
      ],
      "id": "r29Sx6u3hlaL"
    }
  ],
  "metadata": {
    "colab": {
      "provenance": []
    },
    "kernelspec": {
      "display_name": "Python 3",
      "language": "python",
      "name": "python3"
    },
    "language_info": {
      "codemirror_mode": {
        "name": "ipython",
        "version": 3
      },
      "file_extension": ".py",
      "mimetype": "text/x-python",
      "name": "python",
      "nbconvert_exporter": "python",
      "pygments_lexer": "ipython3",
      "version": "3.7.0"
    }
  },
  "nbformat": 4,
  "nbformat_minor": 5
}